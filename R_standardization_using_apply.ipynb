{
 "cells": [
  {
   "cell_type": "markdown",
   "metadata": {},
   "source": [
    "# Split and Standardization of DataFrame using apply"
   ]
  },
  {
   "cell_type": "markdown",
   "metadata": {},
   "source": [
    "## 0. Get USArrests dataset"
   ]
  },
  {
   "cell_type": "code",
   "execution_count": 1,
   "metadata": {},
   "outputs": [],
   "source": [
    "library(MASS)"
   ]
  },
  {
   "cell_type": "code",
   "execution_count": 2,
   "metadata": {},
   "outputs": [],
   "source": [
    "data(Cars93)"
   ]
  },
  {
   "cell_type": "code",
   "execution_count": 3,
   "metadata": {},
   "outputs": [
    {
     "name": "stdout",
     "output_type": "stream",
     "text": [
      "'data.frame':\t93 obs. of  27 variables:\n",
      " $ Manufacturer      : Factor w/ 32 levels \"Acura\",\"Audi\",..: 1 1 2 2 3 4 4 4 4 5 ...\n",
      " $ Model             : Factor w/ 93 levels \"100\",\"190E\",\"240\",..: 49 56 9 1 6 24 54 74 73 35 ...\n",
      " $ Type              : Factor w/ 6 levels \"Compact\",\"Large\",..: 4 3 1 3 3 3 2 2 3 2 ...\n",
      " $ Min.Price         : num  12.9 29.2 25.9 30.8 23.7 14.2 19.9 22.6 26.3 33 ...\n",
      " $ Price             : num  15.9 33.9 29.1 37.7 30 15.7 20.8 23.7 26.3 34.7 ...\n",
      " $ Max.Price         : num  18.8 38.7 32.3 44.6 36.2 17.3 21.7 24.9 26.3 36.3 ...\n",
      " $ MPG.city          : int  25 18 20 19 22 22 19 16 19 16 ...\n",
      " $ MPG.highway       : int  31 25 26 26 30 31 28 25 27 25 ...\n",
      " $ AirBags           : Factor w/ 3 levels \"Driver & Passenger\",..: 3 1 2 1 2 2 2 2 2 2 ...\n",
      " $ DriveTrain        : Factor w/ 3 levels \"4WD\",\"Front\",..: 2 2 2 2 3 2 2 3 2 2 ...\n",
      " $ Cylinders         : Factor w/ 6 levels \"3\",\"4\",\"5\",\"6\",..: 2 4 4 4 2 2 4 4 4 5 ...\n",
      " $ EngineSize        : num  1.8 3.2 2.8 2.8 3.5 2.2 3.8 5.7 3.8 4.9 ...\n",
      " $ Horsepower        : int  140 200 172 172 208 110 170 180 170 200 ...\n",
      " $ RPM               : int  6300 5500 5500 5500 5700 5200 4800 4000 4800 4100 ...\n",
      " $ Rev.per.mile      : int  2890 2335 2280 2535 2545 2565 1570 1320 1690 1510 ...\n",
      " $ Man.trans.avail   : Factor w/ 2 levels \"No\",\"Yes\": 2 2 2 2 2 1 1 1 1 1 ...\n",
      " $ Fuel.tank.capacity: num  13.2 18 16.9 21.1 21.1 16.4 18 23 18.8 18 ...\n",
      " $ Passengers        : int  5 5 5 6 4 6 6 6 5 6 ...\n",
      " $ Length            : int  177 195 180 193 186 189 200 216 198 206 ...\n",
      " $ Wheelbase         : int  102 115 102 106 109 105 111 116 108 114 ...\n",
      " $ Width             : int  68 71 67 70 69 69 74 78 73 73 ...\n",
      " $ Turn.circle       : int  37 38 37 37 39 41 42 45 41 43 ...\n",
      " $ Rear.seat.room    : num  26.5 30 28 31 27 28 30.5 30.5 26.5 35 ...\n",
      " $ Luggage.room      : int  11 15 14 17 13 16 17 21 14 18 ...\n",
      " $ Weight            : int  2705 3560 3375 3405 3640 2880 3470 4105 3495 3620 ...\n",
      " $ Origin            : Factor w/ 2 levels \"USA\",\"non-USA\": 2 2 2 2 2 1 1 1 1 1 ...\n",
      " $ Make              : Factor w/ 93 levels \"Acura Integra\",..: 1 2 4 3 5 6 7 9 8 10 ...\n"
     ]
    }
   ],
   "source": [
    "str(Cars93)"
   ]
  },
  {
   "cell_type": "markdown",
   "metadata": {},
   "source": [
    "## 1. split of X, y"
   ]
  },
  {
   "cell_type": "code",
   "execution_count": 4,
   "metadata": {},
   "outputs": [
    {
     "data": {
      "text/html": [
       "<table>\n",
       "<caption>A data.frame: 6 × 6</caption>\n",
       "<thead>\n",
       "\t<tr><th scope=col>Price</th><th scope=col>Horsepower</th><th scope=col>RPM</th><th scope=col>Length</th><th scope=col>Type</th><th scope=col>Origin</th></tr>\n",
       "\t<tr><th scope=col>&lt;dbl&gt;</th><th scope=col>&lt;int&gt;</th><th scope=col>&lt;int&gt;</th><th scope=col>&lt;int&gt;</th><th scope=col>&lt;fct&gt;</th><th scope=col>&lt;fct&gt;</th></tr>\n",
       "</thead>\n",
       "<tbody>\n",
       "\t<tr><td>15.9</td><td>140</td><td>6300</td><td>177</td><td>Small  </td><td>non-USA</td></tr>\n",
       "\t<tr><td>33.9</td><td>200</td><td>5500</td><td>195</td><td>Midsize</td><td>non-USA</td></tr>\n",
       "\t<tr><td>29.1</td><td>172</td><td>5500</td><td>180</td><td>Compact</td><td>non-USA</td></tr>\n",
       "\t<tr><td>37.7</td><td>172</td><td>5500</td><td>193</td><td>Midsize</td><td>non-USA</td></tr>\n",
       "\t<tr><td>30.0</td><td>208</td><td>5700</td><td>186</td><td>Midsize</td><td>non-USA</td></tr>\n",
       "\t<tr><td>15.7</td><td>110</td><td>5200</td><td>189</td><td>Midsize</td><td>USA    </td></tr>\n",
       "</tbody>\n",
       "</table>\n"
      ],
      "text/latex": [
       "A data.frame: 6 × 6\n",
       "\\begin{tabular}{r|llllll}\n",
       " Price & Horsepower & RPM & Length & Type & Origin\\\\\n",
       " <dbl> & <int> & <int> & <int> & <fct> & <fct>\\\\\n",
       "\\hline\n",
       "\t 15.9 & 140 & 6300 & 177 & Small   & non-USA\\\\\n",
       "\t 33.9 & 200 & 5500 & 195 & Midsize & non-USA\\\\\n",
       "\t 29.1 & 172 & 5500 & 180 & Compact & non-USA\\\\\n",
       "\t 37.7 & 172 & 5500 & 193 & Midsize & non-USA\\\\\n",
       "\t 30.0 & 208 & 5700 & 186 & Midsize & non-USA\\\\\n",
       "\t 15.7 & 110 & 5200 & 189 & Midsize & USA    \\\\\n",
       "\\end{tabular}\n"
      ],
      "text/markdown": [
       "\n",
       "A data.frame: 6 × 6\n",
       "\n",
       "| Price &lt;dbl&gt; | Horsepower &lt;int&gt; | RPM &lt;int&gt; | Length &lt;int&gt; | Type &lt;fct&gt; | Origin &lt;fct&gt; |\n",
       "|---|---|---|---|---|---|\n",
       "| 15.9 | 140 | 6300 | 177 | Small   | non-USA |\n",
       "| 33.9 | 200 | 5500 | 195 | Midsize | non-USA |\n",
       "| 29.1 | 172 | 5500 | 180 | Compact | non-USA |\n",
       "| 37.7 | 172 | 5500 | 193 | Midsize | non-USA |\n",
       "| 30.0 | 208 | 5700 | 186 | Midsize | non-USA |\n",
       "| 15.7 | 110 | 5200 | 189 | Midsize | USA     |\n",
       "\n"
      ],
      "text/plain": [
       "  Price Horsepower RPM  Length Type    Origin \n",
       "1 15.9  140        6300 177    Small   non-USA\n",
       "2 33.9  200        5500 195    Midsize non-USA\n",
       "3 29.1  172        5500 180    Compact non-USA\n",
       "4 37.7  172        5500 193    Midsize non-USA\n",
       "5 30.0  208        5700 186    Midsize non-USA\n",
       "6 15.7  110        5200 189    Midsize USA    "
      ]
     },
     "metadata": {},
     "output_type": "display_data"
    }
   ],
   "source": [
    "X <- subset(Cars93, select=c('Price', 'Horsepower', 'RPM', 'Length', 'Type', 'Origin'))\n",
    "head(X)"
   ]
  },
  {
   "cell_type": "code",
   "execution_count": 5,
   "metadata": {},
   "outputs": [
    {
     "data": {
      "text/plain": [
       "\n",
       "    USA non-USA \n",
       "     48      45 "
      ]
     },
     "metadata": {},
     "output_type": "display_data"
    }
   ],
   "source": [
    "table(X$Origin)"
   ]
  },
  {
   "cell_type": "code",
   "execution_count": 6,
   "metadata": {},
   "outputs": [
    {
     "data": {
      "text/html": [
       "<ol class=list-inline>\n",
       "\t<li>31</li>\n",
       "\t<li>25</li>\n",
       "\t<li>26</li>\n",
       "\t<li>26</li>\n",
       "\t<li>30</li>\n",
       "\t<li>31</li>\n",
       "\t<li>28</li>\n",
       "\t<li>25</li>\n",
       "\t<li>27</li>\n",
       "\t<li>25</li>\n",
       "\t<li>25</li>\n",
       "\t<li>36</li>\n",
       "\t<li>34</li>\n",
       "\t<li>28</li>\n",
       "\t<li>29</li>\n",
       "\t<li>23</li>\n",
       "\t<li>20</li>\n",
       "\t<li>26</li>\n",
       "\t<li>25</li>\n",
       "\t<li>28</li>\n",
       "\t<li>28</li>\n",
       "\t<li>26</li>\n",
       "\t<li>33</li>\n",
       "\t<li>29</li>\n",
       "\t<li>27</li>\n",
       "\t<li>21</li>\n",
       "\t<li>27</li>\n",
       "\t<li>24</li>\n",
       "\t<li>33</li>\n",
       "\t<li>28</li>\n",
       "\t<li>33</li>\n",
       "\t<li>30</li>\n",
       "\t<li>27</li>\n",
       "\t<li>29</li>\n",
       "\t<li>30</li>\n",
       "\t<li>20</li>\n",
       "\t<li>30</li>\n",
       "\t<li>26</li>\n",
       "\t<li>50</li>\n",
       "\t<li>36</li>\n",
       "\t<li>31</li>\n",
       "\t<li>46</li>\n",
       "\t<li>31</li>\n",
       "\t<li>33</li>\n",
       "\t<li>29</li>\n",
       "\t<li>34</li>\n",
       "\t<li>27</li>\n",
       "\t<li>22</li>\n",
       "\t<li>24</li>\n",
       "\t<li>23</li>\n",
       "\t<li>26</li>\n",
       "\t<li>26</li>\n",
       "\t<li>37</li>\n",
       "\t<li>36</li>\n",
       "\t<li>34</li>\n",
       "\t<li>24</li>\n",
       "\t<li>25</li>\n",
       "\t<li>29</li>\n",
       "\t<li>25</li>\n",
       "\t<li>26</li>\n",
       "\t<li>26</li>\n",
       "\t<li>33</li>\n",
       "\t<li>24</li>\n",
       "\t<li>33</li>\n",
       "\t<li>30</li>\n",
       "\t<li>23</li>\n",
       "\t<li>26</li>\n",
       "\t<li>31</li>\n",
       "\t<li>31</li>\n",
       "\t<li>23</li>\n",
       "\t<li>28</li>\n",
       "\t<li>30</li>\n",
       "\t<li>41</li>\n",
       "\t<li>31</li>\n",
       "\t<li>28</li>\n",
       "\t<li>27</li>\n",
       "\t<li>28</li>\n",
       "\t<li>26</li>\n",
       "\t<li>38</li>\n",
       "\t<li>37</li>\n",
       "\t<li>30</li>\n",
       "\t<li>30</li>\n",
       "\t<li>43</li>\n",
       "\t<li>37</li>\n",
       "\t<li>32</li>\n",
       "\t<li>29</li>\n",
       "\t<li>22</li>\n",
       "\t<li>33</li>\n",
       "\t<li>21</li>\n",
       "\t<li>30</li>\n",
       "\t<li>25</li>\n",
       "\t<li>28</li>\n",
       "\t<li>28</li>\n",
       "</ol>\n"
      ],
      "text/latex": [
       "\\begin{enumerate*}\n",
       "\\item 31\n",
       "\\item 25\n",
       "\\item 26\n",
       "\\item 26\n",
       "\\item 30\n",
       "\\item 31\n",
       "\\item 28\n",
       "\\item 25\n",
       "\\item 27\n",
       "\\item 25\n",
       "\\item 25\n",
       "\\item 36\n",
       "\\item 34\n",
       "\\item 28\n",
       "\\item 29\n",
       "\\item 23\n",
       "\\item 20\n",
       "\\item 26\n",
       "\\item 25\n",
       "\\item 28\n",
       "\\item 28\n",
       "\\item 26\n",
       "\\item 33\n",
       "\\item 29\n",
       "\\item 27\n",
       "\\item 21\n",
       "\\item 27\n",
       "\\item 24\n",
       "\\item 33\n",
       "\\item 28\n",
       "\\item 33\n",
       "\\item 30\n",
       "\\item 27\n",
       "\\item 29\n",
       "\\item 30\n",
       "\\item 20\n",
       "\\item 30\n",
       "\\item 26\n",
       "\\item 50\n",
       "\\item 36\n",
       "\\item 31\n",
       "\\item 46\n",
       "\\item 31\n",
       "\\item 33\n",
       "\\item 29\n",
       "\\item 34\n",
       "\\item 27\n",
       "\\item 22\n",
       "\\item 24\n",
       "\\item 23\n",
       "\\item 26\n",
       "\\item 26\n",
       "\\item 37\n",
       "\\item 36\n",
       "\\item 34\n",
       "\\item 24\n",
       "\\item 25\n",
       "\\item 29\n",
       "\\item 25\n",
       "\\item 26\n",
       "\\item 26\n",
       "\\item 33\n",
       "\\item 24\n",
       "\\item 33\n",
       "\\item 30\n",
       "\\item 23\n",
       "\\item 26\n",
       "\\item 31\n",
       "\\item 31\n",
       "\\item 23\n",
       "\\item 28\n",
       "\\item 30\n",
       "\\item 41\n",
       "\\item 31\n",
       "\\item 28\n",
       "\\item 27\n",
       "\\item 28\n",
       "\\item 26\n",
       "\\item 38\n",
       "\\item 37\n",
       "\\item 30\n",
       "\\item 30\n",
       "\\item 43\n",
       "\\item 37\n",
       "\\item 32\n",
       "\\item 29\n",
       "\\item 22\n",
       "\\item 33\n",
       "\\item 21\n",
       "\\item 30\n",
       "\\item 25\n",
       "\\item 28\n",
       "\\item 28\n",
       "\\end{enumerate*}\n"
      ],
      "text/markdown": [
       "1. 31\n",
       "2. 25\n",
       "3. 26\n",
       "4. 26\n",
       "5. 30\n",
       "6. 31\n",
       "7. 28\n",
       "8. 25\n",
       "9. 27\n",
       "10. 25\n",
       "11. 25\n",
       "12. 36\n",
       "13. 34\n",
       "14. 28\n",
       "15. 29\n",
       "16. 23\n",
       "17. 20\n",
       "18. 26\n",
       "19. 25\n",
       "20. 28\n",
       "21. 28\n",
       "22. 26\n",
       "23. 33\n",
       "24. 29\n",
       "25. 27\n",
       "26. 21\n",
       "27. 27\n",
       "28. 24\n",
       "29. 33\n",
       "30. 28\n",
       "31. 33\n",
       "32. 30\n",
       "33. 27\n",
       "34. 29\n",
       "35. 30\n",
       "36. 20\n",
       "37. 30\n",
       "38. 26\n",
       "39. 50\n",
       "40. 36\n",
       "41. 31\n",
       "42. 46\n",
       "43. 31\n",
       "44. 33\n",
       "45. 29\n",
       "46. 34\n",
       "47. 27\n",
       "48. 22\n",
       "49. 24\n",
       "50. 23\n",
       "51. 26\n",
       "52. 26\n",
       "53. 37\n",
       "54. 36\n",
       "55. 34\n",
       "56. 24\n",
       "57. 25\n",
       "58. 29\n",
       "59. 25\n",
       "60. 26\n",
       "61. 26\n",
       "62. 33\n",
       "63. 24\n",
       "64. 33\n",
       "65. 30\n",
       "66. 23\n",
       "67. 26\n",
       "68. 31\n",
       "69. 31\n",
       "70. 23\n",
       "71. 28\n",
       "72. 30\n",
       "73. 41\n",
       "74. 31\n",
       "75. 28\n",
       "76. 27\n",
       "77. 28\n",
       "78. 26\n",
       "79. 38\n",
       "80. 37\n",
       "81. 30\n",
       "82. 30\n",
       "83. 43\n",
       "84. 37\n",
       "85. 32\n",
       "86. 29\n",
       "87. 22\n",
       "88. 33\n",
       "89. 21\n",
       "90. 30\n",
       "91. 25\n",
       "92. 28\n",
       "93. 28\n",
       "\n",
       "\n"
      ],
      "text/plain": [
       " [1] 31 25 26 26 30 31 28 25 27 25 25 36 34 28 29 23 20 26 25 28 28 26 33 29 27\n",
       "[26] 21 27 24 33 28 33 30 27 29 30 20 30 26 50 36 31 46 31 33 29 34 27 22 24 23\n",
       "[51] 26 26 37 36 34 24 25 29 25 26 26 33 24 33 30 23 26 31 31 23 28 30 41 31 28\n",
       "[76] 27 28 26 38 37 30 30 43 37 32 29 22 33 21 30 25 28 28"
      ]
     },
     "metadata": {},
     "output_type": "display_data"
    }
   ],
   "source": [
    "y <- Cars93$MPG.highway\n",
    "y"
   ]
  },
  {
   "cell_type": "markdown",
   "metadata": {},
   "source": [
    "## 2. Split of Train, Test set\n",
    "- (2-1) by random sampling\n",
    "- (2-2) by sequential sampling\n",
    "- (2-3) by stratified random sampling"
   ]
  },
  {
   "cell_type": "markdown",
   "metadata": {},
   "source": [
    "### (2-1) Split of Train, Test set by Random Sampling"
   ]
  },
  {
   "cell_type": "code",
   "execution_count": 7,
   "metadata": {},
   "outputs": [],
   "source": [
    "# (1) index for splitting data into Train and Test set\n",
    "set.seed(1004) # for reprodicibility\n",
    "train_idx <- sample(1:nrow(X), size=0.8*nrow(X), replace=F) # train-set 0.8, test-set 0.2\n",
    "test_idx <- (-train_idx)"
   ]
  },
  {
   "cell_type": "code",
   "execution_count": 8,
   "metadata": {},
   "outputs": [],
   "source": [
    "X_train <- X[train_idx,]\n",
    "y_train <- y[train_idx]\n",
    "X_test <- X[test_idx,]\n",
    "y_test <- y[test_idx]"
   ]
  },
  {
   "cell_type": "code",
   "execution_count": 9,
   "metadata": {},
   "outputs": [
    {
     "name": "stdout",
     "output_type": "stream",
     "text": [
      "[1] \"X_train: 74\"\n",
      "[1] \"y_train: 74\"\n",
      "[1] \"X_test: 19\"\n",
      "[1] \"y_test: 19\"\n"
     ]
    }
   ],
   "source": [
    "print(paste0('X_train: ', nrow(X_train)))\n",
    "print(paste0('y_train: ', length(y_train)))\n",
    "print(paste0('X_test: ', nrow(X_test)))\n",
    "print(paste0('y_test: ', length(y_test)))"
   ]
  },
  {
   "cell_type": "markdown",
   "metadata": {},
   "source": [
    "### (2-2) Split of Train, Test set by Sequential Sampling"
   ]
  },
  {
   "cell_type": "code",
   "execution_count": 10,
   "metadata": {},
   "outputs": [],
   "source": [
    "# sequential sampling\n",
    "test_size <- 0.2\n",
    "test_num <- ceiling(nrow(X) * test_size)\n",
    "train_num <- nrow(X) - test_num\n",
    "\n",
    "X_train <- X[1:train_num,]\n",
    "X_test <- X[(train_num+1):nrow(X),]\n",
    "y_train <- y[1:train_num]\n",
    "y_test <- y[(train_num+1):length(y)]"
   ]
  },
  {
   "cell_type": "markdown",
   "metadata": {},
   "source": [
    "###  (2-3) Split of Train, Test set by Stratified Random Sampling"
   ]
  },
  {
   "cell_type": "code",
   "execution_count": 11,
   "metadata": {},
   "outputs": [],
   "source": [
    "# UDF of split of train and test set using random sampling\n",
    "random_split <- function(X, y\n",
    "                         , test_size\n",
    "                         , shuffle\n",
    "                         , random_state) {\n",
    "    \n",
    "    test_num <- ceiling(nrow(X) * test_size)\n",
    "    train_num <- nrow(X) - test_num\n",
    "    \n",
    "    if (shuffle == TRUE) {\n",
    "        # shuffle == True\n",
    "        set.seed(random_state) # for reprodicibility\n",
    "        test_idx <- sample(1:nrow(X), size=test_num, replace=F)\n",
    "        train_idx <- (-test_idx)\n",
    "            \n",
    "        X_train <- X[train_idx,]\n",
    "        X_test <- X[test_idx,]\n",
    "        y_train <- y[train_idx]\n",
    "        y_test <- y[test_idx]\n",
    "    } else {\n",
    "        # shuffle == False\n",
    "        X_train <- X[1:train_num,]\n",
    "        X_test <- X[(train_num+1):nrow(X),]\n",
    "        y_train <- y[1:train_num]\n",
    "        y_test <- y[(train_num+1):length(y)]\n",
    "    }\n",
    "    \n",
    "    return (list(X_train, X_test, y_train, y_test))\n",
    "}\n",
    "\n",
    "\n",
    "# UDF of split of train and test set using stratified random sampling\n",
    "train_test_split <- function(X, y\n",
    "                             , test_size=0.2\n",
    "                             , shuffle=TRUE\n",
    "                             , random_state=2004\n",
    "                             , stratify=FALSE, strat_col=NULL){\n",
    "                        \n",
    "    if (stratify == FALSE){ # simple random sampling\n",
    "        split <- random_split(X, y, test_size, shuffle, random_state)\n",
    "        X_train <- split[1]\n",
    "        X_test  <- split[2]\n",
    "        y_train <- split[3]\n",
    "        y_test  <- split[4]\n",
    "    } else { # --- stratified random sampling\n",
    "        strata <- unique(as.character(X[,strat_col]))\n",
    "        X_train <- data.frame()\n",
    "        X_test  <- data.frame()\n",
    "        y_train <- vector()\n",
    "        y_test  <- vector()\n",
    "        for (stratum in strata){\n",
    "            X_stratum <- X[X[strat_col] == stratum, ]\n",
    "            y_stratum <- y[X[strat_col] == stratum]\n",
    "            split_stratum <- random_split(X_stratum, y_stratum, test_size, shuffle, random_state)\n",
    "            X_train <- rbind(X_train, data.frame(split_stratum[1]))\n",
    "            X_test  <- rbind(X_test,  data.frame(split_stratum[2]))\n",
    "            y_train <- c(y_train, unlist(split_stratum[3]))\n",
    "            y_test  <- c(y_test,  unlist(split_stratum[4]))\n",
    "        }\n",
    "    }\n",
    "    return (list(X_train, X_test, y_train, y_test))\n",
    "}"
   ]
  },
  {
   "cell_type": "markdown",
   "metadata": {},
   "source": [
    "###  (2-3) example: split of train, test set using stratified random sampling by 'Origin' strata"
   ]
  },
  {
   "cell_type": "code",
   "execution_count": 12,
   "metadata": {},
   "outputs": [],
   "source": [
    "split_list <- train_test_split(X, y\n",
    "                               , test_size=0.2\n",
    "                               , shuffle=TRUE\n",
    "                               , random_state=2004\n",
    "                               , stratify=TRUE, strat_col='Origin')\n",
    "\n",
    "X_train <- data.frame(split_list[1])\n",
    "X_test  <- data.frame(split_list[2])\n",
    "y_train <- unlist(split_list[3])\n",
    "y_test  <- unlist(split_list[4])"
   ]
  },
  {
   "cell_type": "code",
   "execution_count": 13,
   "metadata": {},
   "outputs": [
    {
     "name": "stdout",
     "output_type": "stream",
     "text": [
      "[1] \"Dim of X_train: 74, 6\"\n",
      "[1] \"Dim of X_test:  19, 6\"\n",
      "[1] \"Length of y_train: 74\"\n",
      "[1] \"Length of y_test:  19\"\n"
     ]
    }
   ],
   "source": [
    "print(paste0('Dim of X_train: ', nrow(X_train), ', ', ncol(X_train)))\n",
    "print(paste0('Dim of X_test:  ', nrow(X_test), ', ', ncol(X_test)))\n",
    "print(paste0('Length of y_train: ', length(y_train)))\n",
    "print(paste0('Length of y_test:  ', length(y_test)))"
   ]
  },
  {
   "cell_type": "code",
   "execution_count": 14,
   "metadata": {},
   "outputs": [
    {
     "data": {
      "text/html": [
       "<table>\n",
       "<caption>A data.frame: 19 × 6</caption>\n",
       "<thead>\n",
       "\t<tr><th></th><th scope=col>Price</th><th scope=col>Horsepower</th><th scope=col>RPM</th><th scope=col>Length</th><th scope=col>Type</th><th scope=col>Origin</th></tr>\n",
       "\t<tr><th></th><th scope=col>&lt;dbl&gt;</th><th scope=col>&lt;int&gt;</th><th scope=col>&lt;int&gt;</th><th scope=col>&lt;int&gt;</th><th scope=col>&lt;fct&gt;</th><th scope=col>&lt;fct&gt;</th></tr>\n",
       "</thead>\n",
       "<tbody>\n",
       "\t<tr><th scope=row>44</th><td> 8.0</td><td> 81</td><td>5500</td><td>168</td><td>Small  </td><td>non-USA</td></tr>\n",
       "\t<tr><th scope=row>2</th><td>33.9</td><td>200</td><td>5500</td><td>195</td><td>Midsize</td><td>non-USA</td></tr>\n",
       "\t<tr><th scope=row>39</th><td> 8.4</td><td> 55</td><td>5700</td><td>151</td><td>Small  </td><td>non-USA</td></tr>\n",
       "\t<tr><th scope=row>40</th><td>12.5</td><td> 90</td><td>5400</td><td>164</td><td>Sporty </td><td>non-USA</td></tr>\n",
       "\t<tr><th scope=row>3</th><td>29.1</td><td>172</td><td>5500</td><td>180</td><td>Compact</td><td>non-USA</td></tr>\n",
       "\t<tr><th scope=row>53</th><td> 8.3</td><td> 82</td><td>5000</td><td>164</td><td>Small  </td><td>non-USA</td></tr>\n",
       "\t<tr><th scope=row>45</th><td>10.0</td><td>124</td><td>6000</td><td>172</td><td>Small  </td><td>non-USA</td></tr>\n",
       "\t<tr><th scope=row>90</th><td>20.0</td><td>134</td><td>5800</td><td>180</td><td>Compact</td><td>non-USA</td></tr>\n",
       "\t<tr><th scope=row>42</th><td>12.1</td><td>102</td><td>5900</td><td>173</td><td>Small  </td><td>non-USA</td></tr>\n",
       "\t<tr><th scope=row>16</th><td>16.3</td><td>170</td><td>4800</td><td>178</td><td>Van    </td><td>USA    </td></tr>\n",
       "\t<tr><th scope=row>7</th><td>20.8</td><td>170</td><td>4800</td><td>200</td><td>Large  </td><td>USA    </td></tr>\n",
       "\t<tr><th scope=row>11</th><td>40.1</td><td>295</td><td>6000</td><td>204</td><td>Midsize</td><td>USA    </td></tr>\n",
       "\t<tr><th scope=row>73</th><td> 9.0</td><td> 74</td><td>5600</td><td>177</td><td>Small  </td><td>USA    </td></tr>\n",
       "\t<tr><th scope=row>12</th><td>13.4</td><td>110</td><td>5200</td><td>182</td><td>Compact</td><td>USA    </td></tr>\n",
       "\t<tr><th scope=row>8</th><td>23.7</td><td>180</td><td>4000</td><td>216</td><td>Large  </td><td>USA    </td></tr>\n",
       "\t<tr><th scope=row>23</th><td> 9.2</td><td> 92</td><td>6000</td><td>174</td><td>Small  </td><td>USA    </td></tr>\n",
       "\t<tr><th scope=row>17</th><td>16.6</td><td>165</td><td>4000</td><td>194</td><td>Van    </td><td>USA    </td></tr>\n",
       "\t<tr><th scope=row>74</th><td>11.1</td><td>110</td><td>5200</td><td>181</td><td>Compact</td><td>USA    </td></tr>\n",
       "\t<tr><th scope=row>14</th><td>15.1</td><td>160</td><td>4600</td><td>193</td><td>Sporty </td><td>USA    </td></tr>\n",
       "</tbody>\n",
       "</table>\n"
      ],
      "text/latex": [
       "A data.frame: 19 × 6\n",
       "\\begin{tabular}{r|llllll}\n",
       "  & Price & Horsepower & RPM & Length & Type & Origin\\\\\n",
       "  & <dbl> & <int> & <int> & <int> & <fct> & <fct>\\\\\n",
       "\\hline\n",
       "\t44 &  8.0 &  81 & 5500 & 168 & Small   & non-USA\\\\\n",
       "\t2 & 33.9 & 200 & 5500 & 195 & Midsize & non-USA\\\\\n",
       "\t39 &  8.4 &  55 & 5700 & 151 & Small   & non-USA\\\\\n",
       "\t40 & 12.5 &  90 & 5400 & 164 & Sporty  & non-USA\\\\\n",
       "\t3 & 29.1 & 172 & 5500 & 180 & Compact & non-USA\\\\\n",
       "\t53 &  8.3 &  82 & 5000 & 164 & Small   & non-USA\\\\\n",
       "\t45 & 10.0 & 124 & 6000 & 172 & Small   & non-USA\\\\\n",
       "\t90 & 20.0 & 134 & 5800 & 180 & Compact & non-USA\\\\\n",
       "\t42 & 12.1 & 102 & 5900 & 173 & Small   & non-USA\\\\\n",
       "\t16 & 16.3 & 170 & 4800 & 178 & Van     & USA    \\\\\n",
       "\t7 & 20.8 & 170 & 4800 & 200 & Large   & USA    \\\\\n",
       "\t11 & 40.1 & 295 & 6000 & 204 & Midsize & USA    \\\\\n",
       "\t73 &  9.0 &  74 & 5600 & 177 & Small   & USA    \\\\\n",
       "\t12 & 13.4 & 110 & 5200 & 182 & Compact & USA    \\\\\n",
       "\t8 & 23.7 & 180 & 4000 & 216 & Large   & USA    \\\\\n",
       "\t23 &  9.2 &  92 & 6000 & 174 & Small   & USA    \\\\\n",
       "\t17 & 16.6 & 165 & 4000 & 194 & Van     & USA    \\\\\n",
       "\t74 & 11.1 & 110 & 5200 & 181 & Compact & USA    \\\\\n",
       "\t14 & 15.1 & 160 & 4600 & 193 & Sporty  & USA    \\\\\n",
       "\\end{tabular}\n"
      ],
      "text/markdown": [
       "\n",
       "A data.frame: 19 × 6\n",
       "\n",
       "| <!--/--> | Price &lt;dbl&gt; | Horsepower &lt;int&gt; | RPM &lt;int&gt; | Length &lt;int&gt; | Type &lt;fct&gt; | Origin &lt;fct&gt; |\n",
       "|---|---|---|---|---|---|---|\n",
       "| 44 |  8.0 |  81 | 5500 | 168 | Small   | non-USA |\n",
       "| 2 | 33.9 | 200 | 5500 | 195 | Midsize | non-USA |\n",
       "| 39 |  8.4 |  55 | 5700 | 151 | Small   | non-USA |\n",
       "| 40 | 12.5 |  90 | 5400 | 164 | Sporty  | non-USA |\n",
       "| 3 | 29.1 | 172 | 5500 | 180 | Compact | non-USA |\n",
       "| 53 |  8.3 |  82 | 5000 | 164 | Small   | non-USA |\n",
       "| 45 | 10.0 | 124 | 6000 | 172 | Small   | non-USA |\n",
       "| 90 | 20.0 | 134 | 5800 | 180 | Compact | non-USA |\n",
       "| 42 | 12.1 | 102 | 5900 | 173 | Small   | non-USA |\n",
       "| 16 | 16.3 | 170 | 4800 | 178 | Van     | USA     |\n",
       "| 7 | 20.8 | 170 | 4800 | 200 | Large   | USA     |\n",
       "| 11 | 40.1 | 295 | 6000 | 204 | Midsize | USA     |\n",
       "| 73 |  9.0 |  74 | 5600 | 177 | Small   | USA     |\n",
       "| 12 | 13.4 | 110 | 5200 | 182 | Compact | USA     |\n",
       "| 8 | 23.7 | 180 | 4000 | 216 | Large   | USA     |\n",
       "| 23 |  9.2 |  92 | 6000 | 174 | Small   | USA     |\n",
       "| 17 | 16.6 | 165 | 4000 | 194 | Van     | USA     |\n",
       "| 74 | 11.1 | 110 | 5200 | 181 | Compact | USA     |\n",
       "| 14 | 15.1 | 160 | 4600 | 193 | Sporty  | USA     |\n",
       "\n"
      ],
      "text/plain": [
       "   Price Horsepower RPM  Length Type    Origin \n",
       "44  8.0   81        5500 168    Small   non-USA\n",
       "2  33.9  200        5500 195    Midsize non-USA\n",
       "39  8.4   55        5700 151    Small   non-USA\n",
       "40 12.5   90        5400 164    Sporty  non-USA\n",
       "3  29.1  172        5500 180    Compact non-USA\n",
       "53  8.3   82        5000 164    Small   non-USA\n",
       "45 10.0  124        6000 172    Small   non-USA\n",
       "90 20.0  134        5800 180    Compact non-USA\n",
       "42 12.1  102        5900 173    Small   non-USA\n",
       "16 16.3  170        4800 178    Van     USA    \n",
       "7  20.8  170        4800 200    Large   USA    \n",
       "11 40.1  295        6000 204    Midsize USA    \n",
       "73  9.0   74        5600 177    Small   USA    \n",
       "12 13.4  110        5200 182    Compact USA    \n",
       "8  23.7  180        4000 216    Large   USA    \n",
       "23  9.2   92        6000 174    Small   USA    \n",
       "17 16.6  165        4000 194    Van     USA    \n",
       "74 11.1  110        5200 181    Compact USA    \n",
       "14 15.1  160        4600 193    Sporty  USA    "
      ]
     },
     "metadata": {},
     "output_type": "display_data"
    }
   ],
   "source": [
    "X_test"
   ]
  },
  {
   "cell_type": "code",
   "execution_count": 15,
   "metadata": {},
   "outputs": [
    {
     "data": {
      "text/plain": [
       "\n",
       "    USA non-USA \n",
       "     48      45 "
      ]
     },
     "metadata": {},
     "output_type": "display_data"
    }
   ],
   "source": [
    "table(X$Origin)"
   ]
  },
  {
   "cell_type": "code",
   "execution_count": 16,
   "metadata": {},
   "outputs": [
    {
     "data": {
      "text/plain": [
       "\n",
       "    USA non-USA \n",
       "     10       9 "
      ]
     },
     "metadata": {},
     "output_type": "display_data"
    }
   ],
   "source": [
    "table(X_test$Origin)"
   ]
  },
  {
   "cell_type": "code",
   "execution_count": 17,
   "metadata": {},
   "outputs": [
    {
     "data": {
      "text/html": [
       "<ol class=list-inline>\n",
       "\t<li>33</li>\n",
       "\t<li>25</li>\n",
       "\t<li>50</li>\n",
       "\t<li>36</li>\n",
       "\t<li>26</li>\n",
       "\t<li>37</li>\n",
       "\t<li>29</li>\n",
       "\t<li>30</li>\n",
       "\t<li>46</li>\n",
       "\t<li>23</li>\n",
       "\t<li>28</li>\n",
       "\t<li>25</li>\n",
       "\t<li>41</li>\n",
       "\t<li>36</li>\n",
       "\t<li>25</li>\n",
       "\t<li>33</li>\n",
       "\t<li>20</li>\n",
       "\t<li>31</li>\n",
       "\t<li>28</li>\n",
       "</ol>\n"
      ],
      "text/latex": [
       "\\begin{enumerate*}\n",
       "\\item 33\n",
       "\\item 25\n",
       "\\item 50\n",
       "\\item 36\n",
       "\\item 26\n",
       "\\item 37\n",
       "\\item 29\n",
       "\\item 30\n",
       "\\item 46\n",
       "\\item 23\n",
       "\\item 28\n",
       "\\item 25\n",
       "\\item 41\n",
       "\\item 36\n",
       "\\item 25\n",
       "\\item 33\n",
       "\\item 20\n",
       "\\item 31\n",
       "\\item 28\n",
       "\\end{enumerate*}\n"
      ],
      "text/markdown": [
       "1. 33\n",
       "2. 25\n",
       "3. 50\n",
       "4. 36\n",
       "5. 26\n",
       "6. 37\n",
       "7. 29\n",
       "8. 30\n",
       "9. 46\n",
       "10. 23\n",
       "11. 28\n",
       "12. 25\n",
       "13. 41\n",
       "14. 36\n",
       "15. 25\n",
       "16. 33\n",
       "17. 20\n",
       "18. 31\n",
       "19. 28\n",
       "\n",
       "\n"
      ],
      "text/plain": [
       " [1] 33 25 50 36 26 37 29 30 46 23 28 25 41 36 25 33 20 31 28"
      ]
     },
     "metadata": {},
     "output_type": "display_data"
    }
   ],
   "source": [
    "y_test"
   ]
  },
  {
   "cell_type": "code",
   "execution_count": 18,
   "metadata": {},
   "outputs": [],
   "source": [
    "# split of train, test set by random sampling using train_test_split() function\n",
    "split_list <- train_test_split(X, y\n",
    "                               , test_size=0.2\n",
    "                               , shuffle=TRUE\n",
    "                               , random_state=2004\n",
    "                               , stratify=FALSE)\n",
    "\n",
    "X_train <- data.frame(split_list[1])\n",
    "X_test  <- data.frame(split_list[2])\n",
    "y_train <- unlist(split_list[3])\n",
    "y_test  <- unlist(split_list[4])"
   ]
  },
  {
   "cell_type": "code",
   "execution_count": 19,
   "metadata": {},
   "outputs": [],
   "source": [
    "# split of train, test set by sequential sampling using train_test_split() function\n",
    "split_list <- train_test_split(X, y\n",
    "                               , test_size=0.2\n",
    "                               , shuffle=FALSE\n",
    "                               , random_state=2004\n",
    "                               , stratify=FALSE)\n",
    "\n",
    "X_train <- data.frame(split_list[1])\n",
    "X_test  <- data.frame(split_list[2])\n",
    "y_train <- unlist(split_list[3])\n",
    "y_test  <- unlist(split_list[4])"
   ]
  },
  {
   "cell_type": "markdown",
   "metadata": {},
   "source": [
    "## 3. Standardization of DataFrame with multiple Numeric Variables\n",
    "- (3-1) z-standardization\n",
    "- (3-2) [0-1] transformation (normalization)"
   ]
  },
  {
   "cell_type": "markdown",
   "metadata": {},
   "source": [
    "### (3-1) z-standardization"
   ]
  },
  {
   "cell_type": "code",
   "execution_count": 20,
   "metadata": {},
   "outputs": [],
   "source": [
    "# split numeric, categorical variables\n",
    "X_train_num <- X_train[, c('Price', 'Horsepower', 'RPM', 'Length')]\n",
    "X_train_cat <- X_train[, c('Type', 'Origin')]\n",
    "X_test_num  <- X_test[ , c('Price', 'Horsepower', 'RPM', 'Length')]\n",
    "X_test_cat  <- X_test[ , c('Type', 'Origin')]"
   ]
  },
  {
   "cell_type": "code",
   "execution_count": 21,
   "metadata": {},
   "outputs": [
    {
     "name": "stdout",
     "output_type": "stream",
     "text": [
      "[1] \"---- Mean ----\"\n",
      "     Price Horsepower        RPM     Length \n",
      "  19.94595  148.50000 5258.10811  184.79730 \n",
      "[1] \"---- Standard Deviation ----\"\n",
      "     Price Horsepower        RPM     Length \n",
      "  10.32200   54.59571  624.33675   14.54137 \n"
     ]
    }
   ],
   "source": [
    "# (1) Z Standardization\n",
    "# (1-1) using scale() function\n",
    "X_mean   <- apply(X_train_num, 2, mean)\n",
    "X_stddev <- apply(X_train_num, 2, sd)\n",
    "\n",
    "print('---- Mean ----')\n",
    "print(X_mean)\n",
    "print('---- Standard Deviation ----')\n",
    "print(X_stddev)"
   ]
  },
  {
   "cell_type": "code",
   "execution_count": 22,
   "metadata": {},
   "outputs": [
    {
     "data": {
      "text/html": [
       "<table>\n",
       "<caption>A matrix: 6 × 4 of type dbl</caption>\n",
       "<thead>\n",
       "\t<tr><th scope=col>Price</th><th scope=col>Horsepower</th><th scope=col>RPM</th><th scope=col>Length</th></tr>\n",
       "</thead>\n",
       "<tbody>\n",
       "\t<tr><td>-0.3919732</td><td>-0.1556899</td><td> 1.66879797</td><td>-0.53621469</td></tr>\n",
       "\t<tr><td> 1.3518755</td><td> 0.9432975</td><td> 0.38743818</td><td> 0.70163274</td></tr>\n",
       "\t<tr><td> 0.8868492</td><td> 0.4304367</td><td> 0.38743818</td><td>-0.32990679</td></tr>\n",
       "\t<tr><td> 1.7200213</td><td> 0.4304367</td><td> 0.38743818</td><td> 0.56409414</td></tr>\n",
       "\t<tr><td> 0.9740416</td><td> 1.0898292</td><td> 0.70777813</td><td> 0.08270903</td></tr>\n",
       "\t<tr><td>-0.4113493</td><td>-0.7051836</td><td>-0.09307174</td><td> 0.28901693</td></tr>\n",
       "</tbody>\n",
       "</table>\n"
      ],
      "text/latex": [
       "A matrix: 6 × 4 of type dbl\n",
       "\\begin{tabular}{r|llll}\n",
       " Price & Horsepower & RPM & Length\\\\\n",
       "\\hline\n",
       "\t -0.3919732 & -0.1556899 &  1.66879797 & -0.53621469\\\\\n",
       "\t  1.3518755 &  0.9432975 &  0.38743818 &  0.70163274\\\\\n",
       "\t  0.8868492 &  0.4304367 &  0.38743818 & -0.32990679\\\\\n",
       "\t  1.7200213 &  0.4304367 &  0.38743818 &  0.56409414\\\\\n",
       "\t  0.9740416 &  1.0898292 &  0.70777813 &  0.08270903\\\\\n",
       "\t -0.4113493 & -0.7051836 & -0.09307174 &  0.28901693\\\\\n",
       "\\end{tabular}\n"
      ],
      "text/markdown": [
       "\n",
       "A matrix: 6 × 4 of type dbl\n",
       "\n",
       "| Price | Horsepower | RPM | Length |\n",
       "|---|---|---|---|\n",
       "| -0.3919732 | -0.1556899 |  1.66879797 | -0.53621469 |\n",
       "|  1.3518755 |  0.9432975 |  0.38743818 |  0.70163274 |\n",
       "|  0.8868492 |  0.4304367 |  0.38743818 | -0.32990679 |\n",
       "|  1.7200213 |  0.4304367 |  0.38743818 |  0.56409414 |\n",
       "|  0.9740416 |  1.0898292 |  0.70777813 |  0.08270903 |\n",
       "| -0.4113493 | -0.7051836 | -0.09307174 |  0.28901693 |\n",
       "\n"
      ],
      "text/plain": [
       "  Price      Horsepower RPM         Length     \n",
       "1 -0.3919732 -0.1556899  1.66879797 -0.53621469\n",
       "2  1.3518755  0.9432975  0.38743818  0.70163274\n",
       "3  0.8868492  0.4304367  0.38743818 -0.32990679\n",
       "4  1.7200213  0.4304367  0.38743818  0.56409414\n",
       "5  0.9740416  1.0898292  0.70777813  0.08270903\n",
       "6 -0.4113493 -0.7051836 -0.09307174  0.28901693"
      ]
     },
     "metadata": {},
     "output_type": "display_data"
    }
   ],
   "source": [
    "X_train_num_scaled <- scale(X_train_num, center=X_mean, scale = X_stddev)\n",
    "head(X_train_num_scaled)"
   ]
  },
  {
   "cell_type": "code",
   "execution_count": 23,
   "metadata": {},
   "outputs": [
    {
     "data": {
      "text/html": [
       "<table>\n",
       "<caption>A matrix: 6 × 4 of type dbl</caption>\n",
       "<thead>\n",
       "\t<tr><th></th><th scope=col>Price</th><th scope=col>Horsepower</th><th scope=col>RPM</th><th scope=col>Length</th></tr>\n",
       "</thead>\n",
       "<tbody>\n",
       "\t<tr><th scope=row>75</th><td>-0.2175883</td><td> 0.2106393</td><td>-1.0540916</td><td> 0.77040204</td></tr>\n",
       "\t<tr><th scope=row>76</th><td>-0.1400839</td><td> 0.9432975</td><td>-0.4134117</td><td> 0.70163274</td></tr>\n",
       "\t<tr><th scope=row>77</th><td> 0.4315109</td><td> 0.3938038</td><td>-0.7337516</td><td>-0.53621469</td></tr>\n",
       "\t<tr><th scope=row>78</th><td> 0.8480970</td><td>-0.1556899</td><td> 1.1882880</td><td>-0.05482958</td></tr>\n",
       "\t<tr><th scope=row>79</th><td>-0.8569995</td><td>-1.1630950</td><td>-0.4134117</td><td>-0.60498399</td></tr>\n",
       "\t<tr><th scope=row>80</th><td>-1.1185768</td><td>-1.3828925</td><td> 0.5476082</td><td>-2.66806305</td></tr>\n",
       "</tbody>\n",
       "</table>\n"
      ],
      "text/latex": [
       "A matrix: 6 × 4 of type dbl\n",
       "\\begin{tabular}{r|llll}\n",
       "  & Price & Horsepower & RPM & Length\\\\\n",
       "\\hline\n",
       "\t75 & -0.2175883 &  0.2106393 & -1.0540916 &  0.77040204\\\\\n",
       "\t76 & -0.1400839 &  0.9432975 & -0.4134117 &  0.70163274\\\\\n",
       "\t77 &  0.4315109 &  0.3938038 & -0.7337516 & -0.53621469\\\\\n",
       "\t78 &  0.8480970 & -0.1556899 &  1.1882880 & -0.05482958\\\\\n",
       "\t79 & -0.8569995 & -1.1630950 & -0.4134117 & -0.60498399\\\\\n",
       "\t80 & -1.1185768 & -1.3828925 &  0.5476082 & -2.66806305\\\\\n",
       "\\end{tabular}\n"
      ],
      "text/markdown": [
       "\n",
       "A matrix: 6 × 4 of type dbl\n",
       "\n",
       "| <!--/--> | Price | Horsepower | RPM | Length |\n",
       "|---|---|---|---|---|\n",
       "| 75 | -0.2175883 |  0.2106393 | -1.0540916 |  0.77040204 |\n",
       "| 76 | -0.1400839 |  0.9432975 | -0.4134117 |  0.70163274 |\n",
       "| 77 |  0.4315109 |  0.3938038 | -0.7337516 | -0.53621469 |\n",
       "| 78 |  0.8480970 | -0.1556899 |  1.1882880 | -0.05482958 |\n",
       "| 79 | -0.8569995 | -1.1630950 | -0.4134117 | -0.60498399 |\n",
       "| 80 | -1.1185768 | -1.3828925 |  0.5476082 | -2.66806305 |\n",
       "\n"
      ],
      "text/plain": [
       "   Price      Horsepower RPM        Length     \n",
       "75 -0.2175883  0.2106393 -1.0540916  0.77040204\n",
       "76 -0.1400839  0.9432975 -0.4134117  0.70163274\n",
       "77  0.4315109  0.3938038 -0.7337516 -0.53621469\n",
       "78  0.8480970 -0.1556899  1.1882880 -0.05482958\n",
       "79 -0.8569995 -1.1630950 -0.4134117 -0.60498399\n",
       "80 -1.1185768 -1.3828925  0.5476082 -2.66806305"
      ]
     },
     "metadata": {},
     "output_type": "display_data"
    }
   ],
   "source": [
    "# note that 'mean' and 'stddev' are calculated using X_train_num dataset (NOT using X_test_num)\n",
    "X_test_num_scaled <- scale(X_test_num, center=X_mean, scale = X_stddev)\n",
    "head(X_test_num_scaled)"
   ]
  },
  {
   "cell_type": "code",
   "execution_count": 24,
   "metadata": {},
   "outputs": [],
   "source": [
    "# combine X_train_scaled, X_train_cat\n",
    "X_train_scaled <- cbind(X_train_num_scaled, X_train_cat)"
   ]
  },
  {
   "cell_type": "code",
   "execution_count": 25,
   "metadata": {},
   "outputs": [],
   "source": [
    "# combine X_trest_scaled, X_test_cat\n",
    "X_test_scaled <- cbind(X_test_num_scaled, X_test_cat)"
   ]
  },
  {
   "cell_type": "markdown",
   "metadata": {},
   "source": [
    "### (3-2) [0-1] transformation (normalization)"
   ]
  },
  {
   "cell_type": "code",
   "execution_count": 26,
   "metadata": {},
   "outputs": [],
   "source": [
    "# (2) [0-1] Normalization\n",
    "# 0-1 transformation\n",
    "X_max <- apply(X_train_num, 2, max)\n",
    "X_min <- apply(X_train_num, 2, min)\n",
    "X_train_num_scaled <- scale(X_train_num, center = X_min, scale = (X_max - X_min))\n",
    "X_test_num_scaled <- scale(X_test_num, center = X_min, scale = (X_max - X_min))"
   ]
  },
  {
   "cell_type": "code",
   "execution_count": 27,
   "metadata": {},
   "outputs": [
    {
     "data": {
      "text/html": [
       "<table>\n",
       "<caption>A matrix: 6 × 4 of type dbl</caption>\n",
       "<thead>\n",
       "\t<tr><th scope=col>Price</th><th scope=col>Horsepower</th><th scope=col>RPM</th><th scope=col>Length</th></tr>\n",
       "</thead>\n",
       "<tbody>\n",
       "\t<tr><td>0.1559633</td><td>0.3469388</td><td>0.9259259</td><td>0.4615385</td></tr>\n",
       "\t<tr><td>0.4862385</td><td>0.5918367</td><td>0.6296296</td><td>0.6923077</td></tr>\n",
       "\t<tr><td>0.3981651</td><td>0.4775510</td><td>0.6296296</td><td>0.5000000</td></tr>\n",
       "\t<tr><td>0.5559633</td><td>0.4775510</td><td>0.6296296</td><td>0.6666667</td></tr>\n",
       "\t<tr><td>0.4146789</td><td>0.6244898</td><td>0.7037037</td><td>0.5769231</td></tr>\n",
       "\t<tr><td>0.1522936</td><td>0.2244898</td><td>0.5185185</td><td>0.6153846</td></tr>\n",
       "</tbody>\n",
       "</table>\n"
      ],
      "text/latex": [
       "A matrix: 6 × 4 of type dbl\n",
       "\\begin{tabular}{r|llll}\n",
       " Price & Horsepower & RPM & Length\\\\\n",
       "\\hline\n",
       "\t 0.1559633 & 0.3469388 & 0.9259259 & 0.4615385\\\\\n",
       "\t 0.4862385 & 0.5918367 & 0.6296296 & 0.6923077\\\\\n",
       "\t 0.3981651 & 0.4775510 & 0.6296296 & 0.5000000\\\\\n",
       "\t 0.5559633 & 0.4775510 & 0.6296296 & 0.6666667\\\\\n",
       "\t 0.4146789 & 0.6244898 & 0.7037037 & 0.5769231\\\\\n",
       "\t 0.1522936 & 0.2244898 & 0.5185185 & 0.6153846\\\\\n",
       "\\end{tabular}\n"
      ],
      "text/markdown": [
       "\n",
       "A matrix: 6 × 4 of type dbl\n",
       "\n",
       "| Price | Horsepower | RPM | Length |\n",
       "|---|---|---|---|\n",
       "| 0.1559633 | 0.3469388 | 0.9259259 | 0.4615385 |\n",
       "| 0.4862385 | 0.5918367 | 0.6296296 | 0.6923077 |\n",
       "| 0.3981651 | 0.4775510 | 0.6296296 | 0.5000000 |\n",
       "| 0.5559633 | 0.4775510 | 0.6296296 | 0.6666667 |\n",
       "| 0.4146789 | 0.6244898 | 0.7037037 | 0.5769231 |\n",
       "| 0.1522936 | 0.2244898 | 0.5185185 | 0.6153846 |\n",
       "\n"
      ],
      "text/plain": [
       "  Price     Horsepower RPM       Length   \n",
       "1 0.1559633 0.3469388  0.9259259 0.4615385\n",
       "2 0.4862385 0.5918367  0.6296296 0.6923077\n",
       "3 0.3981651 0.4775510  0.6296296 0.5000000\n",
       "4 0.5559633 0.4775510  0.6296296 0.6666667\n",
       "5 0.4146789 0.6244898  0.7037037 0.5769231\n",
       "6 0.1522936 0.2244898  0.5185185 0.6153846"
      ]
     },
     "metadata": {},
     "output_type": "display_data"
    }
   ],
   "source": [
    "head(X_train_num_scaled)"
   ]
  },
  {
   "cell_type": "code",
   "execution_count": 28,
   "metadata": {},
   "outputs": [
    {
     "data": {
      "text/html": [
       "<table>\n",
       "<caption>A matrix: 6 × 4 of type dbl</caption>\n",
       "<thead>\n",
       "\t<tr><th></th><th scope=col>Price</th><th scope=col>Horsepower</th><th scope=col>RPM</th><th scope=col>Length</th></tr>\n",
       "</thead>\n",
       "<tbody>\n",
       "\t<tr><th scope=row>75</th><td>0.18899083</td><td>0.42857143</td><td>0.2962963</td><td>0.70512821</td></tr>\n",
       "\t<tr><th scope=row>76</th><td>0.20366972</td><td>0.59183673</td><td>0.4444444</td><td>0.69230769</td></tr>\n",
       "\t<tr><th scope=row>77</th><td>0.31192661</td><td>0.46938776</td><td>0.3703704</td><td>0.46153846</td></tr>\n",
       "\t<tr><th scope=row>78</th><td>0.39082569</td><td>0.34693878</td><td>0.8148148</td><td>0.55128205</td></tr>\n",
       "\t<tr><th scope=row>79</th><td>0.06788991</td><td>0.12244898</td><td>0.4444444</td><td>0.44871795</td></tr>\n",
       "\t<tr><th scope=row>80</th><td>0.01834862</td><td>0.07346939</td><td>0.6666667</td><td>0.06410256</td></tr>\n",
       "</tbody>\n",
       "</table>\n"
      ],
      "text/latex": [
       "A matrix: 6 × 4 of type dbl\n",
       "\\begin{tabular}{r|llll}\n",
       "  & Price & Horsepower & RPM & Length\\\\\n",
       "\\hline\n",
       "\t75 & 0.18899083 & 0.42857143 & 0.2962963 & 0.70512821\\\\\n",
       "\t76 & 0.20366972 & 0.59183673 & 0.4444444 & 0.69230769\\\\\n",
       "\t77 & 0.31192661 & 0.46938776 & 0.3703704 & 0.46153846\\\\\n",
       "\t78 & 0.39082569 & 0.34693878 & 0.8148148 & 0.55128205\\\\\n",
       "\t79 & 0.06788991 & 0.12244898 & 0.4444444 & 0.44871795\\\\\n",
       "\t80 & 0.01834862 & 0.07346939 & 0.6666667 & 0.06410256\\\\\n",
       "\\end{tabular}\n"
      ],
      "text/markdown": [
       "\n",
       "A matrix: 6 × 4 of type dbl\n",
       "\n",
       "| <!--/--> | Price | Horsepower | RPM | Length |\n",
       "|---|---|---|---|---|\n",
       "| 75 | 0.18899083 | 0.42857143 | 0.2962963 | 0.70512821 |\n",
       "| 76 | 0.20366972 | 0.59183673 | 0.4444444 | 0.69230769 |\n",
       "| 77 | 0.31192661 | 0.46938776 | 0.3703704 | 0.46153846 |\n",
       "| 78 | 0.39082569 | 0.34693878 | 0.8148148 | 0.55128205 |\n",
       "| 79 | 0.06788991 | 0.12244898 | 0.4444444 | 0.44871795 |\n",
       "| 80 | 0.01834862 | 0.07346939 | 0.6666667 | 0.06410256 |\n",
       "\n"
      ],
      "text/plain": [
       "   Price      Horsepower RPM       Length    \n",
       "75 0.18899083 0.42857143 0.2962963 0.70512821\n",
       "76 0.20366972 0.59183673 0.4444444 0.69230769\n",
       "77 0.31192661 0.46938776 0.3703704 0.46153846\n",
       "78 0.39082569 0.34693878 0.8148148 0.55128205\n",
       "79 0.06788991 0.12244898 0.4444444 0.44871795\n",
       "80 0.01834862 0.07346939 0.6666667 0.06410256"
      ]
     },
     "metadata": {},
     "output_type": "display_data"
    }
   ],
   "source": [
    "head(X_test_num_scaled)"
   ]
  },
  {
   "cell_type": "code",
   "execution_count": 29,
   "metadata": {},
   "outputs": [],
   "source": [
    "# combine X_train_scaled, X_train_cat\n",
    "X_train_scaled <- cbind(X_train_num_scaled, X_train_cat)"
   ]
  },
  {
   "cell_type": "code",
   "execution_count": 30,
   "metadata": {},
   "outputs": [],
   "source": [
    "# combine X_trest_scaled, X_test_cat\n",
    "X_test_scaled <- cbind(X_test_num_scaled, X_test_cat)"
   ]
  },
  {
   "cell_type": "markdown",
   "metadata": {},
   "source": [
    "The end."
   ]
  }
 ],
 "metadata": {
  "kernelspec": {
   "display_name": "R",
   "language": "R",
   "name": "ir"
  },
  "language_info": {
   "codemirror_mode": "r",
   "file_extension": ".r",
   "mimetype": "text/x-r-source",
   "name": "R",
   "pygments_lexer": "r",
   "version": "3.6.0"
  }
 },
 "nbformat": 4,
 "nbformat_minor": 2
}
